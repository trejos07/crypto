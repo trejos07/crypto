{
 "cells": [
  {
   "cell_type": "code",
   "execution_count": 9,
   "metadata": {},
   "outputs": [
    {
     "name": "stdout",
     "output_type": "stream",
     "text": [
      "2021-09-07 15:39:26.037000\n"
     ]
    }
   ],
   "source": [
    "from datetime import datetime\n",
    "import pandas as pd\n",
    "\n",
    "timestamp = 1631029166037\n",
    "\n",
    "date_time = pd.to_datetime(timestamp, unit='ms')\n",
    "# date_time = datetime.fromtimestamp(timestamp/1000)\n",
    "print(date_time)"
   ]
  }
 ],
 "metadata": {
  "interpreter": {
   "hash": "efbe9435cc8db3e73b5a78638a2554badc033fad4cda795f41c93f6f7edda0a4"
  },
  "kernelspec": {
   "display_name": "Python 3.9.7 64-bit",
   "language": "python",
   "name": "python3"
  },
  "language_info": {
   "codemirror_mode": {
    "name": "ipython",
    "version": 3
   },
   "file_extension": ".py",
   "mimetype": "text/x-python",
   "name": "python",
   "nbconvert_exporter": "python",
   "pygments_lexer": "ipython3",
   "version": "3.9.7"
  },
  "orig_nbformat": 4
 },
 "nbformat": 4,
 "nbformat_minor": 2
}
